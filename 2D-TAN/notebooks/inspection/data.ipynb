{
 "cells": [
  {
   "cell_type": "code",
   "execution_count": 25,
   "metadata": {},
   "outputs": [],
   "source": [
    "import json\n",
    "\n",
    "import h5py\n",
    "import torch\n",
    "import matplotlib.pyplot as plt"
   ]
  },
  {
   "cell_type": "code",
   "execution_count": 8,
   "metadata": {},
   "outputs": [],
   "source": [
    "split_pathname = \"../../data/TACoS/val.json\""
   ]
  },
  {
   "cell_type": "code",
   "execution_count": 9,
   "metadata": {},
   "outputs": [
    {
     "data": {
      "text/plain": [
       "27"
      ]
     },
     "execution_count": 9,
     "metadata": {},
     "output_type": "execute_result"
    }
   ],
   "source": [
    "split_data = json.load(open(split_pathname))\n",
    "len(split_data.keys())"
   ]
  },
  {
   "cell_type": "code",
   "execution_count": 10,
   "metadata": {},
   "outputs": [
    {
     "data": {
      "text/plain": [
       "127"
      ]
     },
     "execution_count": 10,
     "metadata": {},
     "output_type": "execute_result"
    }
   ],
   "source": [
    "75 + 27 + 25"
   ]
  },
  {
   "cell_type": "code",
   "execution_count": 11,
   "metadata": {},
   "outputs": [
    {
     "data": {
      "text/plain": [
       "dict_keys(['timestamps', 'sentences', 'fps', 'num_frames'])"
      ]
     },
     "execution_count": 11,
     "metadata": {},
     "output_type": "execute_result"
    }
   ],
   "source": [
    "split_data[\"s34-d28.avi\"].keys()"
   ]
  },
  {
   "cell_type": "code",
   "execution_count": 12,
   "metadata": {},
   "outputs": [
    {
     "data": {
      "text/plain": [
       "[201, 487]"
      ]
     },
     "execution_count": 12,
     "metadata": {},
     "output_type": "execute_result"
    }
   ],
   "source": [
    "split_data[\"s34-d28.avi\"][\"timestamps\"][0]"
   ]
  },
  {
   "cell_type": "code",
   "execution_count": 13,
   "metadata": {},
   "outputs": [
    {
     "data": {
      "text/plain": [
       "'The person gets out a knife.'"
      ]
     },
     "execution_count": 13,
     "metadata": {},
     "output_type": "execute_result"
    }
   ],
   "source": [
    "split_data[\"s34-d28.avi\"][\"sentences\"][0]"
   ]
  },
  {
   "cell_type": "code",
   "execution_count": 14,
   "metadata": {},
   "outputs": [
    {
     "data": {
      "text/plain": [
       "29.4"
      ]
     },
     "execution_count": 14,
     "metadata": {},
     "output_type": "execute_result"
    }
   ],
   "source": [
    "split_data[\"s34-d28.avi\"][\"fps\"]"
   ]
  },
  {
   "cell_type": "code",
   "execution_count": 15,
   "metadata": {},
   "outputs": [
    {
     "data": {
      "text/plain": [
       "11800"
      ]
     },
     "execution_count": 15,
     "metadata": {},
     "output_type": "execute_result"
    }
   ],
   "source": [
    "split_data[\"s34-d28.avi\"][\"num_frames\"]"
   ]
  },
  {
   "cell_type": "code",
   "execution_count": 16,
   "metadata": {},
   "outputs": [],
   "source": [
    "hdf5_pathname = r\"../../data/TACoS/tall_c3d_features.hdf5\""
   ]
  },
  {
   "cell_type": "code",
   "execution_count": 17,
   "metadata": {},
   "outputs": [
    {
     "data": {
      "text/plain": [
       "<KeysViewHDF5 ['s13-d21.avi', 's13-d25.avi', 's13-d28.avi', 's13-d31.avi', 's13-d40.avi', 's13-d45.avi', 's13-d48.avi', 's13-d52.avi', 's13-d54.avi', 's14-d26.avi', 's14-d27.avi', 's14-d35.avi', 's14-d43.avi', 's14-d46.avi', 's14-d51.avi', 's15-d26.avi', 's15-d35.avi', 's15-d70.avi', 's17-d42.avi', 's17-d48.avi', 's17-d53.avi', 's17-d55.avi', 's17-d69.avi', 's21-d21.avi', 's21-d23.avi', 's21-d28.avi', 's21-d29.avi', 's21-d35.avi', 's21-d39.avi', 's21-d40.avi', 's21-d42.avi', 's21-d43.avi', 's21-d45.avi', 's21-d50.avi', 's21-d53.avi', 's21-d55.avi', 's22-d25.avi', 's22-d26.avi', 's22-d29.avi', 's22-d34.avi', 's22-d35.avi', 's22-d43.avi', 's22-d46.avi', 's22-d48.avi', 's22-d53.avi', 's22-d55.avi', 's23-d21.avi', 's23-d31.avi', 's23-d34.avi', 's23-d39.avi', 's23-d42.avi', 's23-d45.avi', 's23-d46.avi', 's23-d51.avi', 's23-d54.avi', 's24-d23.avi', 's24-d28.avi', 's24-d34.avi', 's24-d40.avi', 's24-d41.avi', 's24-d48.avi', 's24-d53.avi', 's25-d23.avi', 's25-d35.avi', 's25-d51.avi', 's25-d52.avi', 's25-d69.avi', 's26-d23.avi', 's26-d26.avi', 's26-d69.avi', 's26-d70.avi', 's27-d21.avi', 's27-d29.avi', 's27-d34.avi', 's27-d45.avi', 's27-d50.avi', 's27-d54.avi', 's27-d70.avi', 's28-d25.avi', 's28-d27.avi', 's28-d39.avi', 's28-d46.avi', 's28-d51.avi', 's29-d31.avi', 's29-d39.avi', 's29-d42.avi', 's29-d50.avi', 's29-d52.avi', 's30-d26.avi', 's30-d29.avi', 's30-d40.avi', 's30-d41.avi', 's30-d43.avi', 's30-d52.avi', 's30-d53.avi', 's31-d25.avi', 's31-d28.avi', 's31-d31.avi', 's32-d27.avi', 's32-d52.avi', 's32-d55.avi', 's32-d69.avi', 's32-d70.avi', 's33-d27.avi', 's33-d45.avi', 's33-d50.avi', 's33-d54.avi', 's34-d28.avi', 's34-d34.avi', 's34-d41.avi', 's34-d69.avi', 's35-d40.avi', 's35-d41.avi', 's35-d48.avi', 's35-d55.avi', 's36-d23.avi', 's36-d27.avi', 's36-d31.avi', 's36-d42.avi', 's36-d43.avi', 's36-d50.avi', 's36-d70.avi', 's37-d21.avi', 's37-d25.avi', 's37-d29.avi', 's37-d39.avi', 's37-d46.avi']>"
      ]
     },
     "execution_count": 17,
     "metadata": {},
     "output_type": "execute_result"
    }
   ],
   "source": [
    "hdf5_file = h5py.File(hdf5_pathname, \"r\")\n",
    "hdf5_file.keys()"
   ]
  },
  {
   "cell_type": "code",
   "execution_count": 18,
   "metadata": {},
   "outputs": [
    {
     "data": {
      "text/plain": [
       "tensor([[0.0000, 0.0000, 0.3470,  ..., 0.0000, 0.0000, 4.4787],\n",
       "        [0.0000, 0.0000, 0.2460,  ..., 0.0000, 0.0000, 4.4300],\n",
       "        [0.0000, 0.0000, 0.1181,  ..., 0.0000, 0.0000, 4.5078],\n",
       "        ...,\n",
       "        [0.0000, 0.0000, 0.0000,  ..., 0.0000, 0.0000, 0.0000],\n",
       "        [0.0000, 0.0000, 0.0000,  ..., 0.0000, 0.0000, 0.0000],\n",
       "        [0.0000, 0.0000, 0.0000,  ..., 0.0000, 0.0000, 0.0000]])"
      ]
     },
     "execution_count": 18,
     "metadata": {},
     "output_type": "execute_result"
    }
   ],
   "source": [
    "video_feature = torch.from_numpy(hdf5_file[\"s34-d28.avi\"][:]).float()\n",
    "video_feature"
   ]
  },
  {
   "cell_type": "code",
   "execution_count": 19,
   "metadata": {},
   "outputs": [
    {
     "data": {
      "text/plain": [
       "torch.Size([979, 4096])"
      ]
     },
     "execution_count": 19,
     "metadata": {},
     "output_type": "execute_result"
    }
   ],
   "source": [
    "video_feature.shape"
   ]
  },
  {
   "cell_type": "code",
   "execution_count": 20,
   "metadata": {},
   "outputs": [
    {
     "data": {
      "text/plain": [
       "['s13-d21.avi',\n",
       " 's13-d25.avi',\n",
       " 's13-d28.avi',\n",
       " 's13-d31.avi',\n",
       " 's13-d40.avi',\n",
       " 's13-d45.avi',\n",
       " 's13-d48.avi',\n",
       " 's13-d52.avi',\n",
       " 's13-d54.avi',\n",
       " 's14-d26.avi']"
      ]
     },
     "execution_count": 20,
     "metadata": {},
     "output_type": "execute_result"
    }
   ],
   "source": [
    "sorted_keys = sorted([key for key in hdf5_file.keys()])\n",
    "sorted_keys[:10]"
   ]
  },
  {
   "cell_type": "code",
   "execution_count": 21,
   "metadata": {},
   "outputs": [
    {
     "data": {
      "text/plain": [
       "127"
      ]
     },
     "execution_count": 21,
     "metadata": {},
     "output_type": "execute_result"
    }
   ],
   "source": [
    "len(sorted_keys)"
   ]
  },
  {
   "cell_type": "code",
   "execution_count": 22,
   "metadata": {},
   "outputs": [
    {
     "data": {
      "text/plain": [
       "[240, 240, 463, 418, 273, 357, 263, 224, 677, 1034]"
      ]
     },
     "execution_count": 22,
     "metadata": {},
     "output_type": "execute_result"
    }
   ],
   "source": [
    "video_feature_length = [hdf5_file[key].shape[0] for key in sorted_keys]\n",
    "video_feature_length[:10]"
   ]
  },
  {
   "cell_type": "code",
   "execution_count": 28,
   "metadata": {},
   "outputs": [
    {
     "data": {
      "image/png": "[encoded data removed]",
      "text/plain": [
       "<Figure size 640x480 with 1 Axes>"
      ]
     },
     "metadata": {},
     "output_type": "display_data"
    }
   ],
   "source": [
    "plt.hist(video_feature_length, bins=100)\n",
    "plt.title(\"TACoS Feature Length Distribution\")\n",
    "plt.savefig(\"tacos.svg\")"
   ]
  }
 ],
 "metadata": {
  "kernelspec": {
   "display_name": "TemporalDiagramGroundingInVideos",
   "language": "python",
   "name": "python3"
  },
  "language_info": {
   "codemirror_mode": {
    "name": "ipython",
    "version": 3
   },
   "file_extension": ".py",
   "mimetype": "text/x-python",
   "name": "python",
   "nbconvert_exporter": "python",
   "pygments_lexer": "ipython3",
   "version": "3.10.13"
  }
 },
 "nbformat": 4,
 "nbformat_minor": 2
}
