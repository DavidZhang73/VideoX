{
 "cells": [
  {
   "cell_type": "code",
   "execution_count": 60,
   "metadata": {},
   "outputs": [],
   "source": [
    "import pickle\n",
    "import numpy as np\n",
    "import pandas as pd\n",
    "import matplotlib.pyplot as plt"
   ]
  },
  {
   "cell_type": "code",
   "execution_count": 61,
   "metadata": {},
   "outputs": [],
   "source": [
    "RESULTS_PATHNAME = r\"../../results/IAW/TAN_c3d_test.pkl\""
   ]
  },
  {
   "cell_type": "code",
   "execution_count": 62,
   "metadata": {},
   "outputs": [
    {
     "data": {
      "text/plain": [
       "3512"
      ]
     },
     "execution_count": 62,
     "metadata": {},
     "output_type": "execute_result"
    }
   ],
   "source": [
    "result = pickle.load(open(RESULTS_PATHNAME, \"rb\"))\n",
    "len(result)"
   ]
  },
  {
   "cell_type": "code",
   "execution_count": 89,
   "metadata": {},
   "outputs": [
    {
     "data": {
      "text/plain": [
       "'s29007553_z7f0IISs_kk_41'"
      ]
     },
     "execution_count": 89,
     "metadata": {},
     "output_type": "execute_result"
    }
   ],
   "source": [
    "key = list(result.keys())[401]\n",
    "key"
   ]
  },
  {
   "cell_type": "code",
   "execution_count": 90,
   "metadata": {},
   "outputs": [
    {
     "data": {
      "text/plain": [
       "{'key': 's29007553_z7f0IISs_kk_41',\n",
       " 'video_key': 's29007553_z7f0IISs_kk',\n",
       " 'duration': 1490.81,\n",
       " 'times': [1137.3, 1163.0],\n",
       " 'action': 38}"
      ]
     },
     "execution_count": 90,
     "metadata": {},
     "output_type": "execute_result"
    }
   ],
   "source": [
    "result[key][\"data\"]"
   ]
  },
  {
   "cell_type": "code",
   "execution_count": 93,
   "metadata": {},
   "outputs": [
    {
     "data": {
      "text/plain": [
       "[[1141.4014892578125, 1164.6953125],\n",
       " [1141.4014892578125, 1176.34228515625],\n",
       " [1129.7545166015625, 1164.6953125],\n",
       " [1129.7545166015625, 1176.34228515625],\n",
       " [1153.0484619140625, 1176.34228515625]]"
      ]
     },
     "execution_count": 93,
     "metadata": {},
     "output_type": "execute_result"
    }
   ],
   "source": [
    "result[key][\"scores\"][:5]"
   ]
  },
  {
   "cell_type": "code",
   "execution_count": null,
   "metadata": {},
   "outputs": [],
   "source": [
    "scores = np.array(result[key][\"scores\"])\n",
    "ax = plt.gca()\n",
    "ax.xaxis.set_ticks_position(\"top\")\n",
    "ax.invert_yaxis()\n",
    "ax.scatter(scores[:, 1], scores[:, 0])\n",
    "ax.set_xlabel(\"end time\")\n",
    "ax.set_ylabel(\"start time\")"
   ]
  },
  {
   "cell_type": "code",
   "execution_count": 97,
   "metadata": {},
   "outputs": [
    {
     "data": {
      "text/plain": [
       "0.29470387243735763"
      ]
     },
     "execution_count": 97,
     "metadata": {},
     "output_type": "execute_result"
    }
   ],
   "source": [
    "# calculate the Recall@1, IoU=0.3\n",
    "recall_count = 0\n",
    "count = 0\n",
    "for key in result:\n",
    "    scores = result[key][\"scores\"]\n",
    "    gt = result[key][\"data\"][\"times\"]\n",
    "\n",
    "    pred = scores[0]\n",
    "\n",
    "    intersection = max(0, min(pred[1], gt[1]) - max(pred[0], gt[0]))\n",
    "    union = max(pred[1], gt[1]) - min(pred[0], gt[0])\n",
    "    iou = intersection / union\n",
    "    if iou > 0.3:\n",
    "        recall_count += 1\n",
    "    count += 1\n",
    "recall_count / count"
   ]
  },
  {
   "cell_type": "code",
   "execution_count": 98,
   "metadata": {},
   "outputs": [
    {
     "data": {
      "text/plain": [
       "1035"
      ]
     },
     "execution_count": 98,
     "metadata": {},
     "output_type": "execute_result"
    }
   ],
   "source": [
    "recall_count"
   ]
  }
 ],
 "metadata": {
  "kernelspec": {
   "display_name": "TemporalDiagramGroundingInVideos",
   "language": "python",
   "name": "python3"
  },
  "language_info": {
   "codemirror_mode": {
    "name": "ipython",
    "version": 3
   },
   "file_extension": ".py",
   "mimetype": "text/x-python",
   "name": "python",
   "nbconvert_exporter": "python",
   "pygments_lexer": "ipython3",
   "version": "3.10.13"
  }
 },
 "nbformat": 4,
 "nbformat_minor": 2
}
